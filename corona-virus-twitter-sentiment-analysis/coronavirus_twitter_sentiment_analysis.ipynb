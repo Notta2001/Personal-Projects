{
  "cells": [
    {
      "cell_type": "code",
      "execution_count": 69,
      "metadata": {
        "colab": {
          "base_uri": "https://localhost:8080/"
        },
        "id": "IKlFDJHBwuZi",
        "outputId": "14d44ba2-4b01-4d26-98ce-aa8ee1e383e3"
      },
      "outputs": [
        {
          "name": "stdout",
          "output_type": "stream",
          "text": [
            "Requirement already satisfied: emoji in /usr/local/lib/python3.7/dist-packages (1.6.1)\n"
          ]
        }
      ],
      "source": [
        "!pip install emoji"
      ]
    },
    {
      "cell_type": "code",
      "execution_count": 116,
      "metadata": {
        "id": "Mg59md63voKM"
      },
      "outputs": [],
      "source": [
        "import numpy as np\n",
        "import pandas as pd \n",
        "import tensorflow as tf\n",
        "import matplotlib.pyplot as plt \n",
        "import seaborn as sns\n",
        "import os\n",
        "\n",
        "# data processing \n",
        "import re, string \n",
        "import emoji\n",
        "import nltk\n",
        "from collections import Counter\n",
        "\n",
        "from sklearn import preprocessing\n",
        "from sklearn.model_selection import train_test_split\n",
        "\n",
        "# metrics\n",
        "from sklearn.metrics import accuracy_score, f1_score\n",
        "from sklearn.metrics import classification_report, confusion_matrix"
      ]
    },
    {
      "cell_type": "code",
      "execution_count": 71,
      "metadata": {
        "colab": {
          "base_uri": "https://localhost:8080/",
          "height": 34
        },
        "id": "WguRJkqdwqnX",
        "outputId": "511f1cb9-664a-4f95-a3c5-1fee5aaddacf"
      },
      "outputs": [
        {
          "data": {
            "text/plain": [
              "<Figure size 432x288 with 0 Axes>"
            ]
          },
          "metadata": {},
          "output_type": "display_data"
        }
      ],
      "source": [
        "#set style for plots\n",
        "sns.set_style(\"whitegrid\")\n",
        "sns.despine()\n",
        "plt.style.use(\"seaborn-whitegrid\")\n",
        "plt.rc(\"figure\", autolayout=True)\n",
        "plt.rc(\"axes\", labelweight=\"bold\", labelsize=\"large\", titleweight=\"bold\", titlepad=10)"
      ]
    },
    {
      "cell_type": "markdown",
      "metadata": {
        "id": "gNu85-jiwrCl"
      },
      "source": [
        "# 1. Loading the data"
      ]
    },
    {
      "cell_type": "code",
      "execution_count": 72,
      "metadata": {
        "id": "Snfb1NMBw8fW"
      },
      "outputs": [],
      "source": [
        "df = pd.read_csv('/content/drive/MyDrive/data/coronavirus_tweets/Corona_NLP_train.csv',encoding='ISO-8859-1')"
      ]
    },
    {
      "cell_type": "code",
      "execution_count": 73,
      "metadata": {
        "colab": {
          "base_uri": "https://localhost:8080/",
          "height": 206
        },
        "id": "aGenJuwFxDgS",
        "outputId": "4ca3193a-b5eb-419e-82fb-deb2729aeb64"
      },
      "outputs": [
        {
          "data": {
            "text/html": [
              "\n",
              "  <div id=\"df-f83a3813-a97c-4f4a-bdd4-9a21de5e3545\">\n",
              "    <div class=\"colab-df-container\">\n",
              "      <div>\n",
              "<style scoped>\n",
              "    .dataframe tbody tr th:only-of-type {\n",
              "        vertical-align: middle;\n",
              "    }\n",
              "\n",
              "    .dataframe tbody tr th {\n",
              "        vertical-align: top;\n",
              "    }\n",
              "\n",
              "    .dataframe thead th {\n",
              "        text-align: right;\n",
              "    }\n",
              "</style>\n",
              "<table border=\"1\" class=\"dataframe\">\n",
              "  <thead>\n",
              "    <tr style=\"text-align: right;\">\n",
              "      <th></th>\n",
              "      <th>UserName</th>\n",
              "      <th>ScreenName</th>\n",
              "      <th>Location</th>\n",
              "      <th>TweetAt</th>\n",
              "      <th>OriginalTweet</th>\n",
              "      <th>Sentiment</th>\n",
              "    </tr>\n",
              "  </thead>\n",
              "  <tbody>\n",
              "    <tr>\n",
              "      <th>0</th>\n",
              "      <td>3799</td>\n",
              "      <td>48751</td>\n",
              "      <td>London</td>\n",
              "      <td>16-03-2020</td>\n",
              "      <td>@MeNyrbie @Phil_Gahan @Chrisitv https://t.co/i...</td>\n",
              "      <td>Neutral</td>\n",
              "    </tr>\n",
              "    <tr>\n",
              "      <th>1</th>\n",
              "      <td>3800</td>\n",
              "      <td>48752</td>\n",
              "      <td>UK</td>\n",
              "      <td>16-03-2020</td>\n",
              "      <td>advice Talk to your neighbours family to excha...</td>\n",
              "      <td>Positive</td>\n",
              "    </tr>\n",
              "    <tr>\n",
              "      <th>2</th>\n",
              "      <td>3801</td>\n",
              "      <td>48753</td>\n",
              "      <td>Vagabonds</td>\n",
              "      <td>16-03-2020</td>\n",
              "      <td>Coronavirus Australia: Woolworths to give elde...</td>\n",
              "      <td>Positive</td>\n",
              "    </tr>\n",
              "    <tr>\n",
              "      <th>3</th>\n",
              "      <td>3802</td>\n",
              "      <td>48754</td>\n",
              "      <td>NaN</td>\n",
              "      <td>16-03-2020</td>\n",
              "      <td>My food stock is not the only one which is emp...</td>\n",
              "      <td>Positive</td>\n",
              "    </tr>\n",
              "    <tr>\n",
              "      <th>4</th>\n",
              "      <td>3803</td>\n",
              "      <td>48755</td>\n",
              "      <td>NaN</td>\n",
              "      <td>16-03-2020</td>\n",
              "      <td>Me, ready to go at supermarket during the #COV...</td>\n",
              "      <td>Extremely Negative</td>\n",
              "    </tr>\n",
              "  </tbody>\n",
              "</table>\n",
              "</div>\n",
              "      <button class=\"colab-df-convert\" onclick=\"convertToInteractive('df-f83a3813-a97c-4f4a-bdd4-9a21de5e3545')\"\n",
              "              title=\"Convert this dataframe to an interactive table.\"\n",
              "              style=\"display:none;\">\n",
              "        \n",
              "  <svg xmlns=\"http://www.w3.org/2000/svg\" height=\"24px\"viewBox=\"0 0 24 24\"\n",
              "       width=\"24px\">\n",
              "    <path d=\"M0 0h24v24H0V0z\" fill=\"none\"/>\n",
              "    <path d=\"M18.56 5.44l.94 2.06.94-2.06 2.06-.94-2.06-.94-.94-2.06-.94 2.06-2.06.94zm-11 1L8.5 8.5l.94-2.06 2.06-.94-2.06-.94L8.5 2.5l-.94 2.06-2.06.94zm10 10l.94 2.06.94-2.06 2.06-.94-2.06-.94-.94-2.06-.94 2.06-2.06.94z\"/><path d=\"M17.41 7.96l-1.37-1.37c-.4-.4-.92-.59-1.43-.59-.52 0-1.04.2-1.43.59L10.3 9.45l-7.72 7.72c-.78.78-.78 2.05 0 2.83L4 21.41c.39.39.9.59 1.41.59.51 0 1.02-.2 1.41-.59l7.78-7.78 2.81-2.81c.8-.78.8-2.07 0-2.86zM5.41 20L4 18.59l7.72-7.72 1.47 1.35L5.41 20z\"/>\n",
              "  </svg>\n",
              "      </button>\n",
              "      \n",
              "  <style>\n",
              "    .colab-df-container {\n",
              "      display:flex;\n",
              "      flex-wrap:wrap;\n",
              "      gap: 12px;\n",
              "    }\n",
              "\n",
              "    .colab-df-convert {\n",
              "      background-color: #E8F0FE;\n",
              "      border: none;\n",
              "      border-radius: 50%;\n",
              "      cursor: pointer;\n",
              "      display: none;\n",
              "      fill: #1967D2;\n",
              "      height: 32px;\n",
              "      padding: 0 0 0 0;\n",
              "      width: 32px;\n",
              "    }\n",
              "\n",
              "    .colab-df-convert:hover {\n",
              "      background-color: #E2EBFA;\n",
              "      box-shadow: 0px 1px 2px rgba(60, 64, 67, 0.3), 0px 1px 3px 1px rgba(60, 64, 67, 0.15);\n",
              "      fill: #174EA6;\n",
              "    }\n",
              "\n",
              "    [theme=dark] .colab-df-convert {\n",
              "      background-color: #3B4455;\n",
              "      fill: #D2E3FC;\n",
              "    }\n",
              "\n",
              "    [theme=dark] .colab-df-convert:hover {\n",
              "      background-color: #434B5C;\n",
              "      box-shadow: 0px 1px 3px 1px rgba(0, 0, 0, 0.15);\n",
              "      filter: drop-shadow(0px 1px 2px rgba(0, 0, 0, 0.3));\n",
              "      fill: #FFFFFF;\n",
              "    }\n",
              "  </style>\n",
              "\n",
              "      <script>\n",
              "        const buttonEl =\n",
              "          document.querySelector('#df-f83a3813-a97c-4f4a-bdd4-9a21de5e3545 button.colab-df-convert');\n",
              "        buttonEl.style.display =\n",
              "          google.colab.kernel.accessAllowed ? 'block' : 'none';\n",
              "\n",
              "        async function convertToInteractive(key) {\n",
              "          const element = document.querySelector('#df-f83a3813-a97c-4f4a-bdd4-9a21de5e3545');\n",
              "          const dataTable =\n",
              "            await google.colab.kernel.invokeFunction('convertToInteractive',\n",
              "                                                     [key], {});\n",
              "          if (!dataTable) return;\n",
              "\n",
              "          const docLinkHtml = 'Like what you see? Visit the ' +\n",
              "            '<a target=\"_blank\" href=https://colab.research.google.com/notebooks/data_table.ipynb>data table notebook</a>'\n",
              "            + ' to learn more about interactive tables.';\n",
              "          element.innerHTML = '';\n",
              "          dataTable['output_type'] = 'display_data';\n",
              "          await google.colab.output.renderOutput(dataTable, element);\n",
              "          const docLink = document.createElement('div');\n",
              "          docLink.innerHTML = docLinkHtml;\n",
              "          element.appendChild(docLink);\n",
              "        }\n",
              "      </script>\n",
              "    </div>\n",
              "  </div>\n",
              "  "
            ],
            "text/plain": [
              "   UserName  ...           Sentiment\n",
              "0      3799  ...             Neutral\n",
              "1      3800  ...            Positive\n",
              "2      3801  ...            Positive\n",
              "3      3802  ...            Positive\n",
              "4      3803  ...  Extremely Negative\n",
              "\n",
              "[5 rows x 6 columns]"
            ]
          },
          "execution_count": 73,
          "metadata": {},
          "output_type": "execute_result"
        }
      ],
      "source": [
        "df.head()"
      ]
    },
    {
      "cell_type": "code",
      "execution_count": 74,
      "metadata": {
        "id": "ekP0N-OExECw"
      },
      "outputs": [],
      "source": [
        "df_test = pd.read_csv('/content/drive/MyDrive/data/coronavirus_tweets/Corona_NLP_test.csv')"
      ]
    },
    {
      "cell_type": "code",
      "execution_count": 75,
      "metadata": {
        "colab": {
          "base_uri": "https://localhost:8080/"
        },
        "id": "Ta2c_ZQnxLMx",
        "outputId": "87900267-0677-4d00-c785-f6787568cd31"
      },
      "outputs": [
        {
          "name": "stdout",
          "output_type": "stream",
          "text": [
            "<class 'pandas.core.frame.DataFrame'>\n",
            "RangeIndex: 41157 entries, 0 to 41156\n",
            "Data columns (total 6 columns):\n",
            " #   Column         Non-Null Count  Dtype \n",
            "---  ------         --------------  ----- \n",
            " 0   UserName       41157 non-null  int64 \n",
            " 1   ScreenName     41157 non-null  int64 \n",
            " 2   Location       32567 non-null  object\n",
            " 3   TweetAt        41157 non-null  object\n",
            " 4   OriginalTweet  41157 non-null  object\n",
            " 5   Sentiment      41157 non-null  object\n",
            "dtypes: int64(2), object(4)\n",
            "memory usage: 1.9+ MB\n"
          ]
        }
      ],
      "source": [
        "df.info()"
      ]
    },
    {
      "cell_type": "markdown",
      "metadata": {
        "id": "5vfrxHQfxOF9"
      },
      "source": [
        "We convert the date column 'TweetAt' to pandas datetime format to improve its usability in the further analysis"
      ]
    },
    {
      "cell_type": "code",
      "execution_count": 76,
      "metadata": {
        "id": "DxhhQSHJyvvg"
      },
      "outputs": [],
      "source": [
        "df['TweetAt'] = pd.to_datetime(df['TweetAt'])"
      ]
    },
    {
      "cell_type": "markdown",
      "metadata": {
        "id": "aeukdIzeywvp"
      },
      "source": [
        "How about duplicate tweets ?"
      ]
    },
    {
      "cell_type": "code",
      "execution_count": 77,
      "metadata": {
        "id": "rNEKb-x2y0aG"
      },
      "outputs": [],
      "source": [
        "df.drop_duplicates(subset='OriginalTweet',inplace=True)"
      ]
    },
    {
      "cell_type": "code",
      "execution_count": 78,
      "metadata": {
        "colab": {
          "base_uri": "https://localhost:8080/"
        },
        "id": "WcZEJ0Ixy1II",
        "outputId": "ee528f08-9838-40d7-e7f4-70394022c74f"
      },
      "outputs": [
        {
          "name": "stdout",
          "output_type": "stream",
          "text": [
            "<class 'pandas.core.frame.DataFrame'>\n",
            "Int64Index: 41157 entries, 0 to 41156\n",
            "Data columns (total 6 columns):\n",
            " #   Column         Non-Null Count  Dtype         \n",
            "---  ------         --------------  -----         \n",
            " 0   UserName       41157 non-null  int64         \n",
            " 1   ScreenName     41157 non-null  int64         \n",
            " 2   Location       32567 non-null  object        \n",
            " 3   TweetAt        41157 non-null  datetime64[ns]\n",
            " 4   OriginalTweet  41157 non-null  object        \n",
            " 5   Sentiment      41157 non-null  object        \n",
            "dtypes: datetime64[ns](1), int64(2), object(3)\n",
            "memory usage: 2.2+ MB\n"
          ]
        }
      ],
      "source": [
        "df.info()"
      ]
    },
    {
      "cell_type": "markdown",
      "metadata": {
        "id": "6qIIC02fy13s"
      },
      "source": [
        "--> We have no duplicate"
      ]
    },
    {
      "cell_type": "markdown",
      "metadata": {
        "id": "rfZNn5hcy64e"
      },
      "source": [
        "But to simplify the problem to study, I just want to keep the columns 'Originaltweet' (raw tweet) and the target column 'Sentiment'"
      ]
    },
    {
      "cell_type": "code",
      "execution_count": 79,
      "metadata": {
        "id": "ifUvF-GqzRZl"
      },
      "outputs": [],
      "source": [
        "df = df[['OriginalTweet','Sentiment']]\n",
        "df_test = df_test[['OriginalTweet','Sentiment']]"
      ]
    },
    {
      "cell_type": "markdown",
      "metadata": {
        "id": "q489wF1rzUSu"
      },
      "source": [
        "# 2. Preprocessing"
      ]
    },
    {
      "cell_type": "code",
      "execution_count": 80,
      "metadata": {
        "id": "EDk94zDLze6N"
      },
      "outputs": [],
      "source": [
        "def preprocess_text(text):\n",
        "    # Clean emojis from texts\n",
        "    text = re.sub(emoji.get_emoji_regexp(), r\"\", text)\n",
        "\n",
        "    # Remove links and mentions\n",
        "    text = re.sub(r\"(?:\\@|https?\\://)\\S+\", \"\", text)\n",
        "\n",
        "    # Remove non utf8/ascii characters such as '\\x9a\\x91\\x97\\x9a\\x97'\n",
        "    text = re.sub(r'[^\\x00-\\x7f]',r'', text)\n",
        "\n",
        "    # html_pattern = re.compile(r'<[^<>]+>')\n",
        "    # text = html_pattern.sub(\" \", text)\n",
        "    \n",
        "    # Remove last hashtags\n",
        "    text = \" \".join(word.strip() for word in re.split('#(?!(?:hashtag)\\b)[\\w-]+(?=(?:\\s+#[\\w-]+)*\\s*$)', text))\n",
        "\n",
        "    # Remove punctuations\n",
        "    replace_chars = [\"\\n\", \"\\t\", \"\\r\"] + list(string.punctuation)\n",
        "    for char in replace_chars:\n",
        "        text = text.replace(char, \" \")\n",
        "\n",
        "    # Remove hashtags symbol from words in the middle of the sentence\n",
        "    text = \" \".join(word.strip() for word in re.split('#|_', text))\n",
        "    text = text.split()\n",
        "    text = \" \".join(text)\n",
        "\n",
        "    return text.lower()"
      ]
    },
    {
      "cell_type": "code",
      "execution_count": 81,
      "metadata": {
        "id": "9kzYbISx3vYW"
      },
      "outputs": [],
      "source": [
        "texts_new = [preprocess_text(x) for x in df.OriginalTweet]\n",
        "texts_new_test = [preprocess_text(x) for x in df_test.OriginalTweet]"
      ]
    },
    {
      "cell_type": "code",
      "execution_count": 82,
      "metadata": {
        "id": "p0CI04G_32Sd"
      },
      "outputs": [],
      "source": [
        "df['text_clean'] = texts_new\n",
        "df_test['text_clean'] = texts_new_test"
      ]
    },
    {
      "cell_type": "code",
      "execution_count": 83,
      "metadata": {
        "colab": {
          "base_uri": "https://localhost:8080/",
          "height": 52
        },
        "id": "uA9wiZqz4uGw",
        "outputId": "f3bcb33b-da1b-4eb0-9460-fc2af50eb5cc"
      },
      "outputs": [
        {
          "data": {
            "application/vnd.google.colaboratory.intrinsic+json": {
              "type": "string"
            },
            "text/plain": [
              "'i hate grocery shopping in general but i swear im doing it online next shop can not deal with the swathes of panic buyers at all covid 19'"
            ]
          },
          "execution_count": 83,
          "metadata": {},
          "output_type": "execute_result"
        }
      ],
      "source": [
        "df['text_clean'][100]"
      ]
    },
    {
      "cell_type": "code",
      "execution_count": 84,
      "metadata": {
        "colab": {
          "base_uri": "https://localhost:8080/",
          "height": 52
        },
        "id": "Un-hS-9V4vLt",
        "outputId": "0fdec4a6-45aa-443a-bd28-46f203f02d0d"
      },
      "outputs": [
        {
          "data": {
            "application/vnd.google.colaboratory.intrinsic+json": {
              "type": "string"
            },
            "text/plain": [
              "'I hate grocery shopping in general but I swear IÂ\\x92m doing it online next shop, can not deal with the swathes of panic buyers at all! #COVID?19 #coronavirus #coronavirusuk #anxiety #panicbuyinguk #morons'"
            ]
          },
          "execution_count": 84,
          "metadata": {},
          "output_type": "execute_result"
        }
      ],
      "source": [
        "df['OriginalTweet'][100]"
      ]
    },
    {
      "cell_type": "code",
      "execution_count": 85,
      "metadata": {
        "id": "vIvcKvbP5oD_"
      },
      "outputs": [],
      "source": [
        "# Add a column to control the length of the clean text\n",
        "text_len = []\n",
        "for text in df.text_clean:\n",
        "    tweet_len = len(text.split())\n",
        "    text_len.append(tweet_len)"
      ]
    },
    {
      "cell_type": "code",
      "execution_count": 86,
      "metadata": {
        "id": "a9PLjgm96FZn"
      },
      "outputs": [],
      "source": [
        "df['text_len'] = text_len"
      ]
    },
    {
      "cell_type": "code",
      "execution_count": 87,
      "metadata": {
        "id": "KnSZbOJQ6HY7"
      },
      "outputs": [],
      "source": [
        "text_len_test = []\n",
        "for text in df_test.text_clean:\n",
        "    tweet_len = len(text.split())\n",
        "    text_len_test.append(tweet_len)"
      ]
    },
    {
      "cell_type": "code",
      "execution_count": 88,
      "metadata": {
        "id": "u2n3UkSY6IeS"
      },
      "outputs": [],
      "source": [
        "df_test['text_len'] = text_len_test"
      ]
    },
    {
      "cell_type": "code",
      "execution_count": 89,
      "metadata": {
        "colab": {
          "base_uri": "https://localhost:8080/"
        },
        "id": "6I7zrflJ6JTm",
        "outputId": "5478e8bb-a475-48f9-a471-0fd83fb6c8d5"
      },
      "outputs": [
        {
          "data": {
            "text/plain": [
              "0         2\n",
              "1        38\n",
              "2        14\n",
              "3        35\n",
              "4        37\n",
              "         ..\n",
              "41152    10\n",
              "41153    23\n",
              "41154    16\n",
              "41155    15\n",
              "41156    49\n",
              "Name: text_len, Length: 41157, dtype: int64"
            ]
          },
          "execution_count": 89,
          "metadata": {},
          "output_type": "execute_result"
        }
      ],
      "source": [
        "df['text_len']"
      ]
    },
    {
      "cell_type": "code",
      "execution_count": 90,
      "metadata": {
        "id": "7tlGfUnZ6Kku"
      },
      "outputs": [],
      "source": [
        "# Because there are some tweets with only hashtag, mentions and links so we need to remove them\n",
        "df = df[df['text_len'] > 4]\n",
        "df_test = df_test[df_test['text_len'] > 4]"
      ]
    },
    {
      "cell_type": "code",
      "execution_count": 91,
      "metadata": {
        "colab": {
          "base_uri": "https://localhost:8080/"
        },
        "id": "fBYT1UYX6Z8O",
        "outputId": "f61f861b-7b8a-421e-f27c-6262d9125e6d"
      },
      "outputs": [
        {
          "data": {
            "text/plain": [
              "((40748, 4), (3783, 4))"
            ]
          },
          "execution_count": 91,
          "metadata": {},
          "output_type": "execute_result"
        }
      ],
      "source": [
        "df.shape, df_test.shape"
      ]
    },
    {
      "cell_type": "code",
      "execution_count": 92,
      "metadata": {
        "id": "6iN2Hj5D7cAx"
      },
      "outputs": [],
      "source": [
        "# Process labels"
      ]
    },
    {
      "cell_type": "code",
      "execution_count": 93,
      "metadata": {
        "colab": {
          "base_uri": "https://localhost:8080/"
        },
        "id": "XfK4Hf4s7duy",
        "outputId": "375e5f0f-3565-472b-bdeb-9c449e489077"
      },
      "outputs": [
        {
          "data": {
            "text/plain": [
              "Positive              11333\n",
              "Negative               9871\n",
              "Neutral                7459\n",
              "Extremely Positive     6613\n",
              "Extremely Negative     5472\n",
              "Name: Sentiment, dtype: int64"
            ]
          },
          "execution_count": 93,
          "metadata": {},
          "output_type": "execute_result"
        }
      ],
      "source": [
        "df['Sentiment'].value_counts()"
      ]
    },
    {
      "cell_type": "markdown",
      "metadata": {
        "id": "WNJWEXqY7hrQ"
      },
      "source": [
        "The first thing we can do is to encode the categories with numbers. We will also create just 3 possible emotions: Positive, Neutral and Negative."
      ]
    },
    {
      "cell_type": "code",
      "execution_count": 94,
      "metadata": {
        "colab": {
          "base_uri": "https://localhost:8080/"
        },
        "id": "wG2qc5L47ijg",
        "outputId": "fd630cfb-1b21-4ed3-83f5-cdfbb55cdb11"
      },
      "outputs": [
        {
          "name": "stderr",
          "output_type": "stream",
          "text": [
            "/usr/local/lib/python3.7/dist-packages/ipykernel_launcher.py:1: SettingWithCopyWarning: \n",
            "A value is trying to be set on a copy of a slice from a DataFrame.\n",
            "Try using .loc[row_indexer,col_indexer] = value instead\n",
            "\n",
            "See the caveats in the documentation: https://pandas.pydata.org/pandas-docs/stable/user_guide/indexing.html#returning-a-view-versus-a-copy\n",
            "  \"\"\"Entry point for launching an IPython kernel.\n",
            "/usr/local/lib/python3.7/dist-packages/ipykernel_launcher.py:2: SettingWithCopyWarning: \n",
            "A value is trying to be set on a copy of a slice from a DataFrame.\n",
            "Try using .loc[row_indexer,col_indexer] = value instead\n",
            "\n",
            "See the caveats in the documentation: https://pandas.pydata.org/pandas-docs/stable/user_guide/indexing.html#returning-a-view-versus-a-copy\n",
            "  \n"
          ]
        }
      ],
      "source": [
        "df_test['Sentiment'] = df_test['Sentiment'].map({'Extremely Negative':0,'Negative':0,'Neutral':1,'Positive':2,'Extremely Positive':2})\n",
        "df['Sentiment'] = df['Sentiment'].map({'Extremely Negative':0,'Negative':0,'Neutral':1,'Positive':2,'Extremely Positive':2})"
      ]
    },
    {
      "cell_type": "code",
      "execution_count": 95,
      "metadata": {
        "colab": {
          "base_uri": "https://localhost:8080/"
        },
        "id": "qUBHf3dv7sO-",
        "outputId": "eade0293-9b83-490a-8ddf-497747548047"
      },
      "outputs": [
        {
          "data": {
            "text/plain": [
              "2    17946\n",
              "0    15343\n",
              "1     7459\n",
              "Name: Sentiment, dtype: int64"
            ]
          },
          "execution_count": 95,
          "metadata": {},
          "output_type": "execute_result"
        }
      ],
      "source": [
        "df['Sentiment'].value_counts()"
      ]
    },
    {
      "cell_type": "code",
      "execution_count": 102,
      "metadata": {
        "colab": {
          "base_uri": "https://localhost:8080/"
        },
        "id": "RZsQcfzU8QkZ",
        "outputId": "807b6eb9-6ed3-4fb7-ccb0-cc575ab5a367"
      },
      "outputs": [
        {
          "data": {
            "text/plain": [
              "0    1632\n",
              "2    1543\n",
              "1     608\n",
              "Name: Sentiment, dtype: int64"
            ]
          },
          "execution_count": 102,
          "metadata": {},
          "output_type": "execute_result"
        }
      ],
      "source": [
        "df_test['Sentiment'].value_counts()"
      ]
    },
    {
      "cell_type": "markdown",
      "metadata": {
        "id": "0aVbFRh26b7Y"
      },
      "source": [
        "# 3. EDA"
      ]
    },
    {
      "cell_type": "code",
      "execution_count": 96,
      "metadata": {
        "colab": {
          "base_uri": "https://localhost:8080/",
          "height": 297
        },
        "id": "dFgnLlZ16uvR",
        "outputId": "5a96c880-31fb-455f-9853-26f59d54e727"
      },
      "outputs": [
        {
          "data": {
            "image/png": "[encoded data removed]",
            "text/plain": [
              "<Figure size 432x288 with 1 Axes>"
            ]
          },
          "metadata": {},
          "output_type": "display_data"
        }
      ],
      "source": [
        "plt.hist([len(t.split()) for t in df['text_clean']], bins=128, range=(0, 100))\n",
        "plt.show()"
      ]
    },
    {
      "cell_type": "code",
      "execution_count": 97,
      "metadata": {
        "id": "BsqFMjWO6u9W"
      },
      "outputs": [],
      "source": [
        "max_length = 40 "
      ]
    },
    {
      "cell_type": "code",
      "execution_count": 98,
      "metadata": {
        "colab": {
          "base_uri": "https://localhost:8080/"
        },
        "id": "JiNBR6i-64Fj",
        "outputId": "fe847035-e028-4e25-d030-19abde1ab0bb"
      },
      "outputs": [
        {
          "data": {
            "text/plain": [
              "(38704, 1176709)"
            ]
          },
          "execution_count": 98,
          "metadata": {},
          "output_type": "execute_result"
        }
      ],
      "source": [
        "word_list = []\n",
        "[[word_list.append(word) for word in sent.split()] for sent in df['text_clean']]\n",
        "vocab = Counter(word_list)\n",
        "len(vocab), len(word_list)"
      ]
    },
    {
      "cell_type": "code",
      "execution_count": 99,
      "metadata": {
        "colab": {
          "base_uri": "https://localhost:8080/"
        },
        "id": "1ygv34or68zx",
        "outputId": "f2db2a0c-1a3d-4149-9771-9c0c670e2c9a"
      },
      "outputs": [
        {
          "data": {
            "text/plain": [
              "[0, 19443, 5039, 2509, 1557, 1053, 832, 626, 565, 492]"
            ]
          },
          "execution_count": 99,
          "metadata": {},
          "output_type": "execute_result"
        }
      ],
      "source": [
        "freq_word = []\n",
        "for i in range(10):\n",
        "  num = len([word for word,freq in vocab.items() if freq==i])\n",
        "  freq_word.append(num)\n",
        "freq_word"
      ]
    },
    {
      "cell_type": "code",
      "execution_count": 100,
      "metadata": {
        "colab": {
          "base_uri": "https://localhost:8080/"
        },
        "id": "Ghmm9bTd7V2b",
        "outputId": "8ff2a938-8acf-49bb-fc41-eefc74c7308c"
      },
      "outputs": [
        {
          "data": {
            "text/plain": [
              "1        2\n",
              "2        2\n",
              "3        2\n",
              "4        0\n",
              "5        2\n",
              "        ..\n",
              "41152    1\n",
              "41153    0\n",
              "41154    2\n",
              "41155    1\n",
              "41156    0\n",
              "Name: Sentiment, Length: 40748, dtype: int64"
            ]
          },
          "execution_count": 100,
          "metadata": {},
          "output_type": "execute_result"
        }
      ],
      "source": [
        "df['Sentiment']"
      ]
    },
    {
      "cell_type": "markdown",
      "metadata": {
        "id": "7cFa9TnJ7FFr"
      },
      "source": [
        "# 4. Split dataset "
      ]
    },
    {
      "cell_type": "code",
      "execution_count": 103,
      "metadata": {
        "id": "X3ytxfCb7Icw"
      },
      "outputs": [],
      "source": [
        "train_sentences, valid_sentences, train_labels, valid_labels = train_test_split(\n",
        "                                                                df['text_clean'], df['Sentiment'], \n",
        "                                                                test_size=0.3, random_state=42)"
      ]
    },
    {
      "cell_type": "code",
      "execution_count": 104,
      "metadata": {
        "id": "IvAZYD628Uuz"
      },
      "outputs": [],
      "source": [
        "test_sentences, test_labels = df_test['text_clean'], df_test['Sentiment']"
      ]
    },
    {
      "cell_type": "code",
      "execution_count": 105,
      "metadata": {
        "colab": {
          "base_uri": "https://localhost:8080/"
        },
        "id": "JaDdXn_o8fwi",
        "outputId": "aad99809-744c-4a2c-e7dd-2dab6fd91857"
      },
      "outputs": [
        {
          "data": {
            "text/plain": [
              "(28523, 12225, 3783)"
            ]
          },
          "execution_count": 105,
          "metadata": {},
          "output_type": "execute_result"
        }
      ],
      "source": [
        "len(train_sentences), len(valid_sentences), len(test_sentences)"
      ]
    },
    {
      "cell_type": "code",
      "execution_count": 106,
      "metadata": {
        "colab": {
          "base_uri": "https://localhost:8080/"
        },
        "id": "kghbq1De8hys",
        "outputId": "24f09c03-393a-4c0a-b671-337a21a1b05a"
      },
      "outputs": [
        {
          "data": {
            "text/plain": [
              "(28523, 12225, 3783)"
            ]
          },
          "execution_count": 106,
          "metadata": {},
          "output_type": "execute_result"
        }
      ],
      "source": [
        "len(train_labels), len(valid_labels), len(test_labels)"
      ]
    },
    {
      "cell_type": "markdown",
      "metadata": {
        "id": "E9qfWCoI8i8Q"
      },
      "source": [
        "# 5. Text Representation"
      ]
    },
    {
      "cell_type": "code",
      "execution_count": 107,
      "metadata": {
        "id": "R_358J268nR0"
      },
      "outputs": [],
      "source": [
        "from tensorflow.keras.preprocessing.text import Tokenizer\n",
        "from tensorflow.keras.preprocessing.sequence import pad_sequences"
      ]
    },
    {
      "cell_type": "code",
      "execution_count": 108,
      "metadata": {
        "id": "OM9zdHwq8ocH"
      },
      "outputs": [],
      "source": [
        "vocab_size = 20000\n",
        "max_length = 40\n",
        "embedding_dim = 300"
      ]
    },
    {
      "cell_type": "code",
      "execution_count": 109,
      "metadata": {
        "id": "sE_E12sp8tyh"
      },
      "outputs": [],
      "source": [
        "tokenizer = Tokenizer(num_words=vocab_size, oov_token=\"<OOV>\")\n",
        "tokenizer.fit_on_texts(train_sentences)"
      ]
    },
    {
      "cell_type": "code",
      "execution_count": 111,
      "metadata": {
        "colab": {
          "base_uri": "https://localhost:8080/"
        },
        "id": "wwKI7V7t8uyB",
        "outputId": "62582d01-cbc6-4c34-e6a4-9b680153e32d"
      },
      "outputs": [
        {
          "data": {
            "text/plain": [
              "{1: '<OOV>',\n",
              " 2: 'the',\n",
              " 3: 'to',\n",
              " 4: 'and',\n",
              " 5: 'of',\n",
              " 6: 'a',\n",
              " 7: 'in',\n",
              " 8: 'for',\n",
              " 9: '19',\n",
              " 10: 'covid',\n",
              " 11: 'is',\n",
              " 12: 'are',\n",
              " 13: 'i',\n",
              " 14: 'you',\n",
              " 15: 'on',\n",
              " 16: 'coronavirus',\n",
              " 17: 'this',\n",
              " 18: 'prices',\n",
              " 19: 'at',\n",
              " 20: 'food',\n",
              " 21: 'store',\n",
              " 22: 'supermarket',\n",
              " 23: 'it',\n",
              " 24: 'with',\n",
              " 25: 'we',\n",
              " 26: 'that',\n",
              " 27: 'grocery',\n",
              " 28: 'have',\n",
              " 29: 'as',\n",
              " 30: 'be',\n",
              " 31: 's',\n",
              " 32: 'people',\n",
              " 33: 'from',\n",
              " 34: 'amp',\n",
              " 35: 'all',\n",
              " 36: 'your',\n",
              " 37: 'not',\n",
              " 38: 'will',\n",
              " 39: 'consumer',\n",
              " 40: 'my',\n",
              " 41: 'can',\n",
              " 42: 'they',\n",
              " 43: 'our',\n",
              " 44: 'out',\n",
              " 45: 'up',\n",
              " 46: 'or',\n",
              " 47: 'has',\n",
              " 48: 'by',\n",
              " 49: 'more',\n",
              " 50: 'if',\n",
              " 51: 't',\n",
              " 52: 'but',\n",
              " 53: 'shopping',\n",
              " 54: 'online',\n",
              " 55: 'their',\n",
              " 56: 'how',\n",
              " 57: 'during',\n",
              " 58: 'so',\n",
              " 59: 'now',\n",
              " 60: 'no',\n",
              " 61: 'get',\n",
              " 62: 'pandemic',\n",
              " 63: 'what',\n",
              " 64: 'about',\n",
              " 65: 'who',\n",
              " 66: 'need',\n",
              " 67: 'workers',\n",
              " 68: 'just',\n",
              " 69: 'panic',\n",
              " 70: 'was',\n",
              " 71: 'us',\n",
              " 72: 'do',\n",
              " 73: 'like',\n",
              " 74: 'time',\n",
              " 75: 'go',\n",
              " 76: 'an',\n",
              " 77: 'there',\n",
              " 78: 'home',\n",
              " 79: 'sanitizer',\n",
              " 80: 'when',\n",
              " 81: 'demand',\n",
              " 82: 'some',\n",
              " 83: 'hand',\n",
              " 84: 'help',\n",
              " 85: 'stock',\n",
              " 86: 'me',\n",
              " 87: 'going',\n",
              " 88: 'one',\n",
              " 89: 'its',\n",
              " 90: 'due',\n",
              " 91: 'been',\n",
              " 92: 'buying',\n",
              " 93: 'here',\n",
              " 94: 'new',\n",
              " 95: 'crisis',\n",
              " 96: 'oil',\n",
              " 97: 'work',\n",
              " 98: '2',\n",
              " 99: 'please',\n",
              " 100: 'after',\n",
              " 101: 'them',\n",
              " 102: 'because',\n",
              " 103: 'other',\n",
              " 104: 'only',\n",
              " 105: 'covid19',\n",
              " 106: 'stay',\n",
              " 107: 'toilet',\n",
              " 108: 'over',\n",
              " 109: 'these',\n",
              " 110: 'should',\n",
              " 111: 'today',\n",
              " 112: 'than',\n",
              " 113: 'local',\n",
              " 114: 'paper',\n",
              " 115: '1',\n",
              " 116: 'via',\n",
              " 117: 're',\n",
              " 118: 'buy',\n",
              " 119: 'shelves',\n",
              " 120: 'still',\n",
              " 121: 'don',\n",
              " 122: 'being',\n",
              " 123: 'many',\n",
              " 124: 'stores',\n",
              " 125: 'delivery',\n",
              " 126: 'keep',\n",
              " 127: 'make',\n",
              " 128: 'those',\n",
              " 129: 'see',\n",
              " 130: 'know',\n",
              " 131: 'down',\n",
              " 132: 'take',\n",
              " 133: 'day',\n",
              " 134: 'retail',\n",
              " 135: 'supply',\n",
              " 136: 'why',\n",
              " 137: 'into',\n",
              " 138: 'staff',\n",
              " 139: 'were',\n",
              " 140: 'would',\n",
              " 141: 'outbreak',\n",
              " 142: 'social',\n",
              " 143: 'stop',\n",
              " 144: 'any',\n",
              " 145: 'could',\n",
              " 146: 'even',\n",
              " 147: '3',\n",
              " 148: 'virus',\n",
              " 149: 'had',\n",
              " 150: 'masks',\n",
              " 151: 'price',\n",
              " 152: 'everyone',\n",
              " 153: 'while',\n",
              " 154: 'working',\n",
              " 155: 'essential',\n",
              " 156: 'also',\n",
              " 157: 'week',\n",
              " 158: 'health',\n",
              " 159: 'm',\n",
              " 160: 'think',\n",
              " 161: 'market',\n",
              " 162: 'world',\n",
              " 163: 'use',\n",
              " 164: 'safe',\n",
              " 165: 'customers',\n",
              " 166: 'amid',\n",
              " 167: 'good',\n",
              " 168: 'spread',\n",
              " 169: 'most',\n",
              " 170: 'way',\n",
              " 171: 'he',\n",
              " 172: 'shop',\n",
              " 173: 'employees',\n",
              " 174: 'thank',\n",
              " 175: 'off',\n",
              " 176: 'lockdown',\n",
              " 177: 'which',\n",
              " 178: 'business',\n",
              " 179: 'impact',\n",
              " 180: 'right',\n",
              " 181: 'back',\n",
              " 182: 'products',\n",
              " 183: 'government',\n",
              " 184: 'first',\n",
              " 185: 'every',\n",
              " 186: 'before',\n",
              " 187: 'much',\n",
              " 188: 'may',\n",
              " 189: 'doing',\n",
              " 190: 'items',\n",
              " 191: 'dont',\n",
              " 192: 'times',\n",
              " 193: 'where',\n",
              " 194: 'supplies',\n",
              " 195: 'free',\n",
              " 196: 'well',\n",
              " 197: 'last',\n",
              " 198: 'want',\n",
              " 199: 'find',\n",
              " 200: 'read',\n",
              " 201: 'around',\n",
              " 202: 'support',\n",
              " 203: 'im',\n",
              " 204: 'high',\n",
              " 205: 'face',\n",
              " 206: '4',\n",
              " 207: 'low',\n",
              " 208: 'global',\n",
              " 209: 'news',\n",
              " 210: 'distancing',\n",
              " 211: 'said',\n",
              " 212: 'days',\n",
              " 213: 'through',\n",
              " 214: 'mask',\n",
              " 215: 'gas',\n",
              " 216: 'public',\n",
              " 217: 'open',\n",
              " 218: 'weeks',\n",
              " 219: 'empty',\n",
              " 220: 'am',\n",
              " 221: 'got',\n",
              " 222: 'long',\n",
              " 223: 've',\n",
              " 224: 'then',\n",
              " 225: 'really',\n",
              " 226: 'u',\n",
              " 227: 'risk',\n",
              " 228: 'says',\n",
              " 229: 'companies',\n",
              " 230: 'too',\n",
              " 231: 'she',\n",
              " 232: 'toiletpaper',\n",
              " 233: 'supermarkets',\n",
              " 234: '5',\n",
              " 235: 'since',\n",
              " 236: 'care',\n",
              " 237: 'very',\n",
              " 238: 'getting',\n",
              " 239: 'order',\n",
              " 240: 'country',\n",
              " 241: 'went',\n",
              " 242: 'money',\n",
              " 243: 'consumers',\n",
              " 244: 'her',\n",
              " 245: 'things',\n",
              " 246: '2020',\n",
              " 247: 'say',\n",
              " 248: 'his',\n",
              " 249: 'businesses',\n",
              " 250: 'great',\n",
              " 251: 'others',\n",
              " 252: 'enough',\n",
              " 253: 'line',\n",
              " 254: 'next',\n",
              " 255: 'making',\n",
              " 256: 'economy',\n",
              " 257: 'let',\n",
              " 258: 'two',\n",
              " 259: 'uk',\n",
              " 260: 'look',\n",
              " 261: 'full',\n",
              " 262: 'check',\n",
              " 263: 'pay',\n",
              " 264: '10',\n",
              " 265: 'service',\n",
              " 266: 'gloves',\n",
              " 267: 'available',\n",
              " 268: 'hands',\n",
              " 269: 'family',\n",
              " 270: 'services',\n",
              " 271: 'shops',\n",
              " 272: 'against',\n",
              " 273: 'hours',\n",
              " 274: 'march',\n",
              " 275: 'anyone',\n",
              " 276: 'taking',\n",
              " 277: 'medical',\n",
              " 278: 'put',\n",
              " 279: 'across',\n",
              " 280: 'industry',\n",
              " 281: 'come',\n",
              " 282: 'response',\n",
              " 283: 'chain',\n",
              " 284: 'needs',\n",
              " 285: 'year',\n",
              " 286: 'house',\n",
              " 287: 'must',\n",
              " 288: 'quarantine',\n",
              " 289: 'life',\n",
              " 290: 'protect',\n",
              " 291: 'goods',\n",
              " 292: 'report',\n",
              " 293: 'state',\n",
              " 294: 'everything',\n",
              " 295: 'increase',\n",
              " 296: 'closed',\n",
              " 297: 'same',\n",
              " 298: 'cant',\n",
              " 299: 'fight',\n",
              " 300: 'few',\n",
              " 301: 'self',\n",
              " 302: 'best',\n",
              " 303: '20',\n",
              " 304: 'already',\n",
              " 305: 'trump',\n",
              " 306: 'without',\n",
              " 307: 'china',\n",
              " 308: 'markets',\n",
              " 309: 'sure',\n",
              " 310: 'trying',\n",
              " 311: 'never',\n",
              " 312: 'made',\n",
              " 313: 'big',\n",
              " 314: 'vulnerable',\n",
              " 315: 'give',\n",
              " 316: 'live',\n",
              " 317: 'elderly',\n",
              " 318: '000',\n",
              " 319: 'thing',\n",
              " 320: 'etc',\n",
              " 321: 'close',\n",
              " 322: 'post',\n",
              " 323: 'economic',\n",
              " 324: 'increased',\n",
              " 325: 'thanks',\n",
              " 326: 'scams',\n",
              " 327: 'per',\n",
              " 328: 'groceries',\n",
              " 329: 'place',\n",
              " 330: '6',\n",
              " 331: 'hoarding',\n",
              " 332: 'having',\n",
              " 333: 'community',\n",
              " 334: 'emergency',\n",
              " 335: 'drivers',\n",
              " 336: 'each',\n",
              " 337: 'corona',\n",
              " 338: 'seen',\n",
              " 339: 'someone',\n",
              " 340: 'small',\n",
              " 341: 'call',\n",
              " 342: 'real',\n",
              " 343: 'such',\n",
              " 344: 'covid2019',\n",
              " 345: 'did',\n",
              " 346: 'latest',\n",
              " 347: 'banks',\n",
              " 348: 'cases',\n",
              " 349: 'better',\n",
              " 350: 'hope',\n",
              " 351: 'person',\n",
              " 352: 'away',\n",
              " 353: 'another',\n",
              " 354: 'hard',\n",
              " 355: 'important',\n",
              " 356: 'looking',\n",
              " 357: 'bank',\n",
              " 358: 'does',\n",
              " 359: 'behavior',\n",
              " 360: 'water',\n",
              " 361: 'job',\n",
              " 362: 'situation',\n",
              " 363: 'continue',\n",
              " 364: 'sales',\n",
              " 365: 'using',\n",
              " 366: 'lot',\n",
              " 367: 'left',\n",
              " 368: 'part',\n",
              " 369: 'shoppers',\n",
              " 370: 'socialdistancing',\n",
              " 371: 'selling',\n",
              " 372: 'll',\n",
              " 373: 'morning',\n",
              " 374: 'drop',\n",
              " 375: 'gt',\n",
              " 376: 'together',\n",
              " 377: 'front',\n",
              " 378: 'own',\n",
              " 379: 'healthcare',\n",
              " 380: 'hit',\n",
              " 381: 'run',\n",
              " 382: 'able',\n",
              " 383: 'company',\n",
              " 384: 'under',\n",
              " 385: 'avoid',\n",
              " 386: 'production',\n",
              " 387: 'learn',\n",
              " 388: 'information',\n",
              " 389: 'retailers',\n",
              " 390: 'daily',\n",
              " 391: 'amazon',\n",
              " 392: 'protection',\n",
              " 393: 'list',\n",
              " 394: 'might',\n",
              " 395: 'data',\n",
              " 396: 'key',\n",
              " 397: 'again',\n",
              " 398: 'share',\n",
              " 399: 'normal',\n",
              " 400: 'financial',\n",
              " 401: 'current',\n",
              " 402: 'end',\n",
              " 403: 'essentials',\n",
              " 404: 'ever',\n",
              " 405: 'spending',\n",
              " 406: 'coming',\n",
              " 407: 'told',\n",
              " 408: 'positive',\n",
              " 409: '7',\n",
              " 410: 'feel',\n",
              " 411: 'until',\n",
              " 412: 'related',\n",
              " 413: 'measures',\n",
              " 414: 'little',\n",
              " 415: 'else',\n",
              " 416: 'wearing',\n",
              " 417: 'change',\n",
              " 418: 'outside',\n",
              " 419: 'remember',\n",
              " 420: 'milk',\n",
              " 421: 'nothing',\n",
              " 422: 'man',\n",
              " 423: 'least',\n",
              " 424: 'leave',\n",
              " 425: 'seeing',\n",
              " 426: '100',\n",
              " 427: 'contact',\n",
              " 428: 'thought',\n",
              " 429: 'meet',\n",
              " 430: 'wash',\n",
              " 431: 'done',\n",
              " 432: 'police',\n",
              " 433: 'something',\n",
              " 434: 'safety',\n",
              " 435: 'less',\n",
              " 436: 'start',\n",
              " 437: 'jobs',\n",
              " 438: 'months',\n",
              " 439: '50',\n",
              " 440: 'fall',\n",
              " 441: 'old',\n",
              " 442: 'yet',\n",
              " 443: 'w',\n",
              " 444: 'soap',\n",
              " 445: 'years',\n",
              " 446: 'farmers',\n",
              " 447: 'worker',\n",
              " 448: 'helping',\n",
              " 449: 'lower',\n",
              " 450: 'shortage',\n",
              " 451: 'chains',\n",
              " 452: 'wear',\n",
              " 453: 'running',\n",
              " 454: 'e',\n",
              " 455: 'lives',\n",
              " 456: 'including',\n",
              " 457: 'video',\n",
              " 458: 'tips',\n",
              " 459: 'access',\n",
              " 460: 'rise',\n",
              " 461: 'keeping',\n",
              " 462: 'distance',\n",
              " 463: 'd',\n",
              " 464: 'doctors',\n",
              " 465: 'yourself',\n",
              " 466: '8',\n",
              " 467: 'cut',\n",
              " 468: 'nhs',\n",
              " 469: 'april',\n",
              " 470: 'roll',\n",
              " 471: 'sick',\n",
              " 472: 'update',\n",
              " 473: 'month',\n",
              " 474: 'families',\n",
              " 475: '30',\n",
              " 476: 'offering',\n",
              " 477: 'needed',\n",
              " 478: 'used',\n",
              " 479: 'lines',\n",
              " 480: 'restaurants',\n",
              " 481: 'americans',\n",
              " 482: 'media',\n",
              " 483: 'non',\n",
              " 484: 'once',\n",
              " 485: 'watch',\n",
              " 486: 'instead',\n",
              " 487: 'higher',\n",
              " 488: 'visit',\n",
              " 489: 'possible',\n",
              " 490: 'hospital',\n",
              " 491: 'try',\n",
              " 492: 'always',\n",
              " 493: 'number',\n",
              " 494: 'drive',\n",
              " 495: 'set',\n",
              " 496: 'based',\n",
              " 497: 'soon',\n",
              " 498: 'alcohol',\n",
              " 499: 'nurses',\n",
              " 500: 'isolation',\n",
              " 501: 'relief',\n",
              " 502: 'india',\n",
              " 503: 'likely',\n",
              " 504: 'provide',\n",
              " 505: 'putting',\n",
              " 506: 'bad',\n",
              " 507: 'city',\n",
              " 508: 'reports',\n",
              " 509: 'especially',\n",
              " 510: 'anything',\n",
              " 511: 'found',\n",
              " 512: 'travel',\n",
              " 513: 'friends',\n",
              " 514: 'stocked',\n",
              " 515: 'between',\n",
              " 516: 'sanitizers',\n",
              " 517: 'shortages',\n",
              " 518: 'advice',\n",
              " 519: 'prevent',\n",
              " 520: 'bought',\n",
              " 521: 'changes',\n",
              " 522: 'testing',\n",
              " 523: 'affected',\n",
              " 524: 'major',\n",
              " 525: 'produce',\n",
              " 526: 'million',\n",
              " 527: 'orders',\n",
              " 528: 'healthy',\n",
              " 529: 'kids',\n",
              " 530: 'far',\n",
              " 531: 'gouging',\n",
              " 532: 'hour',\n",
              " 533: 'actually',\n",
              " 534: 'car',\n",
              " 535: 'pharmacy',\n",
              " 536: 'advantage',\n",
              " 537: 'selfish',\n",
              " 538: 'almost',\n",
              " 539: 'special',\n",
              " 540: 'states',\n",
              " 541: 'fear',\n",
              " 542: 'ensure',\n",
              " 543: 'whole',\n",
              " 544: 'eat',\n",
              " 545: 'love',\n",
              " 546: 'govt',\n",
              " 547: 'test',\n",
              " 548: 'wait',\n",
              " 549: 'won',\n",
              " 550: 'brands',\n",
              " 551: 'gone',\n",
              " 552: 'paid',\n",
              " 553: 'yesterday',\n",
              " 554: 'system',\n",
              " 555: 'result',\n",
              " 556: 'surge',\n",
              " 557: 'top',\n",
              " 558: 'website',\n",
              " 559: 'save',\n",
              " 560: '9',\n",
              " 561: 'credit',\n",
              " 562: 'following',\n",
              " 563: 'tell',\n",
              " 564: 'war',\n",
              " 565: 'tested',\n",
              " 566: '15',\n",
              " 567: 'customer',\n",
              " 568: 'saw',\n",
              " 569: 'control',\n",
              " 570: 'area',\n",
              " 571: 'sell',\n",
              " 572: 'countries',\n",
              " 573: 'stuff',\n",
              " 574: 'case',\n",
              " 575: 'reduce',\n",
              " 576: 'deal',\n",
              " 577: 'caused',\n",
              " 578: 'waiting',\n",
              " 579: 'asked',\n",
              " 580: 'show',\n",
              " 581: 'remain',\n",
              " 582: 'staying',\n",
              " 583: 'short',\n",
              " 584: 'understand',\n",
              " 585: 'early',\n",
              " 586: 'info',\n",
              " 587: 'follow',\n",
              " 588: 'critical',\n",
              " 589: 'drug',\n",
              " 590: 'kind',\n",
              " 591: 'below',\n",
              " 592: 'despite',\n",
              " 593: 'cannot',\n",
              " 594: 'huge',\n",
              " 595: 'sold',\n",
              " 596: 'extra',\n",
              " 597: 'join',\n",
              " 598: 'yes',\n",
              " 599: 'youre',\n",
              " 600: 'cash',\n",
              " 601: 'idea',\n",
              " 602: 'cost',\n",
              " 603: 'die',\n",
              " 604: 'taken',\n",
              " 605: 'meat',\n",
              " 606: 'shut',\n",
              " 607: 'article',\n",
              " 608: 'ask',\n",
              " 609: 'works',\n",
              " 610: 'given',\n",
              " 611: 'heroes',\n",
              " 612: 'announced',\n",
              " 613: 'point',\n",
              " 614: 'fresh',\n",
              " 615: 'trip',\n",
              " 616: 'moment',\n",
              " 617: 'term',\n",
              " 618: 'ways',\n",
              " 619: 'means',\n",
              " 620: 'ago',\n",
              " 621: 'period',\n",
              " 622: 'ive',\n",
              " 623: 'him',\n",
              " 624: 'inside',\n",
              " 625: 'allowed',\n",
              " 626: 'story',\n",
              " 627: '12',\n",
              " 628: 'bread',\n",
              " 629: 'tp',\n",
              " 630: 'woman',\n",
              " 631: 'three',\n",
              " 632: 'saying',\n",
              " 633: 'struggling',\n",
              " 634: 'difficult',\n",
              " 635: 'basic',\n",
              " 636: 'cause',\n",
              " 637: 'future',\n",
              " 638: 'become',\n",
              " 639: 'maybe',\n",
              " 640: 'queue',\n",
              " 641: 'shit',\n",
              " 642: 'rolls',\n",
              " 643: 'product',\n",
              " 644: 'security',\n",
              " 645: 'america',\n",
              " 646: 'limit',\n",
              " 647: 'facing',\n",
              " 648: 'russia',\n",
              " 649: 'cleaning',\n",
              " 650: 'employee',\n",
              " 651: 'giving',\n",
              " 652: 'themselves',\n",
              " 653: 'lost',\n",
              " 654: 'pick',\n",
              " 655: 'n',\n",
              " 656: 'personal',\n",
              " 657: 'changing',\n",
              " 658: 'sector',\n",
              " 659: 'seriously',\n",
              " 660: 'fast',\n",
              " 661: 'consider',\n",
              " 662: 'spreading',\n",
              " 663: 'sign',\n",
              " 664: 'ppl',\n",
              " 665: 'ready',\n",
              " 666: 'italy',\n",
              " 667: 'energy',\n",
              " 668: 'offer',\n",
              " 669: 'further',\n",
              " 670: 'mean',\n",
              " 671: 'issues',\n",
              " 672: 'tomorrow',\n",
              " 673: 'restaurant',\n",
              " 674: 'national',\n",
              " 675: 'doesn',\n",
              " 676: 'currently',\n",
              " 677: 'bring',\n",
              " 678: 'increasing',\n",
              " 679: 'fuel',\n",
              " 680: 'eggs',\n",
              " 681: 'starting',\n",
              " 682: 'clean',\n",
              " 683: 'gold',\n",
              " 684: '25',\n",
              " 685: 'survive',\n",
              " 686: 'changed',\n",
              " 687: 'guys',\n",
              " 688: 'president',\n",
              " 689: 'team',\n",
              " 690: 'group',\n",
              " 691: 'purchase',\n",
              " 692: 'nation',\n",
              " 693: 'restrictions',\n",
              " 694: 'research',\n",
              " 695: 'wrong',\n",
              " 696: 'behaviour',\n",
              " 697: 'isn',\n",
              " 698: 'shows',\n",
              " 699: 'both',\n",
              " 700: 'trade',\n",
              " 701: 'shift',\n",
              " 702: 'closing',\n",
              " 703: 'link',\n",
              " 704: 'recent',\n",
              " 705: 'office',\n",
              " 706: 'fucking',\n",
              " 707: 'providing',\n",
              " 708: 'scammers',\n",
              " 709: 'different',\n",
              " 710: 'act',\n",
              " 711: 'buyers',\n",
              " 712: 'crazy',\n",
              " 713: 'large',\n",
              " 714: 'plenty',\n",
              " 715: 'general',\n",
              " 716: 'concerns',\n",
              " 717: 'school',\n",
              " 718: 'gonna',\n",
              " 719: 'started',\n",
              " 720: 'god',\n",
              " 721: 'experts',\n",
              " 722: 'plan',\n",
              " 723: 'american',\n",
              " 724: 'walk',\n",
              " 725: '60',\n",
              " 726: 'deliveries',\n",
              " 727: 'walmart',\n",
              " 728: 'action',\n",
              " 729: 'canada',\n",
              " 730: 'worried',\n",
              " 731: 'thinking',\n",
              " 732: 'household',\n",
              " 733: 'worse',\n",
              " 734: 'reduced',\n",
              " 735: 'asking',\n",
              " 736: 'fears',\n",
              " 737: 'theres',\n",
              " 738: 'past',\n",
              " 739: 'recession',\n",
              " 740: '99',\n",
              " 741: 'makes',\n",
              " 742: 'continues',\n",
              " 743: 'expect',\n",
              " 744: 'half',\n",
              " 745: 'hey',\n",
              " 746: 'single',\n",
              " 747: 'probably',\n",
              " 748: 'raise',\n",
              " 749: 'bit',\n",
              " 750: 'longer',\n",
              " 751: 'folks',\n",
              " 752: 'problem',\n",
              " 753: 'chinese',\n",
              " 754: 'wipes',\n",
              " 755: 'looks',\n",
              " 756: 'afford',\n",
              " 757: 'didn',\n",
              " 758: 'email',\n",
              " 759: 'goes',\n",
              " 760: 'questions',\n",
              " 761: 'confidence',\n",
              " 762: 'updates',\n",
              " 763: 'fighting',\n",
              " 764: 'income',\n",
              " 765: 'truck',\n",
              " 766: 'falling',\n",
              " 767: 'believe',\n",
              " 768: 'donate',\n",
              " 769: 'door',\n",
              " 770: 'expected',\n",
              " 771: 'federal',\n",
              " 772: '14',\n",
              " 773: 'stocks',\n",
              " 774: 'ones',\n",
              " 775: 'allow',\n",
              " 776: 'night',\n",
              " 777: 'ppe',\n",
              " 778: 'called',\n",
              " 779: 'limited',\n",
              " 780: 'parents',\n",
              " 781: 'poor',\n",
              " 782: 'according',\n",
              " 783: 'friend',\n",
              " 784: 'came',\n",
              " 785: 'send',\n",
              " 786: 'died',\n",
              " 787: 'coronacrisis',\n",
              " 788: 'slots',\n",
              " 789: 'direct',\n",
              " 790: 'closures',\n",
              " 791: 'equipment',\n",
              " 792: 'monday',\n",
              " 793: 'bottle',\n",
              " 794: 'hoard',\n",
              " 795: 'plans',\n",
              " 796: 'delivered',\n",
              " 797: 'deliver',\n",
              " 798: 'crude',\n",
              " 799: '24',\n",
              " 800: 'strong',\n",
              " 801: 'kill',\n",
              " 802: 'foods',\n",
              " 803: 'b',\n",
              " 804: 'living',\n",
              " 805: 'ceo',\n",
              " 806: 'near',\n",
              " 807: 'symptoms',\n",
              " 808: 'light',\n",
              " 809: 'sale',\n",
              " 810: 'necessary',\n",
              " 811: 'rs',\n",
              " 812: 'fuck',\n",
              " 813: 'law',\n",
              " 814: 'thats',\n",
              " 815: 'took',\n",
              " 816: 'rising',\n",
              " 817: 'effects',\n",
              " 818: 'comes',\n",
              " 819: 'lets',\n",
              " 820: 'issue',\n",
              " 821: 'alert',\n",
              " 822: 'members',\n",
              " 823: 'happy',\n",
              " 824: 'tests',\n",
              " 825: 'gov',\n",
              " 826: 'trends',\n",
              " 827: 'side',\n",
              " 828: 'experience',\n",
              " 829: 'pack',\n",
              " 830: 'saudi',\n",
              " 831: 'resources',\n",
              " 832: 'seems',\n",
              " 833: 'stockpiling',\n",
              " 834: 'behind',\n",
              " 835: 'potential',\n",
              " 836: 'death',\n",
              " 837: 'marketing',\n",
              " 838: 'society',\n",
              " 839: 'c',\n",
              " 840: 'later',\n",
              " 841: 'blog',\n",
              " 842: 'question',\n",
              " 843: 'hear',\n",
              " 844: 'clear',\n",
              " 845: 'street',\n",
              " 846: 'calls',\n",
              " 847: 'message',\n",
              " 848: 'click',\n",
              " 849: 'however',\n",
              " 850: 'though',\n",
              " 851: 'hospitals',\n",
              " 852: 'nice',\n",
              " 853: 'pm',\n",
              " 854: 'aren',\n",
              " 855: 'efforts',\n",
              " 856: 'pasta',\n",
              " 857: 'driving',\n",
              " 858: 'residents',\n",
              " 859: 'serious',\n",
              " 860: 'responders',\n",
              " 861: 'lots',\n",
              " 862: 'listen',\n",
              " 863: 'hiking',\n",
              " 864: 'citizens',\n",
              " 865: 'rice',\n",
              " 866: 'forced',\n",
              " 867: 'unprecedented',\n",
              " 868: 'ok',\n",
              " 869: 'australia',\n",
              " 870: 'seniors',\n",
              " 871: 'beginning',\n",
              " 872: 'county',\n",
              " 873: 'rules',\n",
              " 874: 'human',\n",
              " 875: 'effect',\n",
              " 876: 'dr',\n",
              " 877: 'digital',\n",
              " 878: 'habits',\n",
              " 879: 'opening',\n",
              " 880: 'places',\n",
              " 881: 'inflated',\n",
              " 882: 'biggest',\n",
              " 883: 'infected',\n",
              " 884: 'move',\n",
              " 885: 'isnt',\n",
              " 886: 'reason',\n",
              " 887: 'rate',\n",
              " 888: 'y',\n",
              " 889: 'anxiety',\n",
              " 890: 'amount',\n",
              " 891: 'touch',\n",
              " 892: 'pretty',\n",
              " 893: '40',\n",
              " 894: 'couple',\n",
              " 895: 'distribution',\n",
              " 896: 'worth',\n",
              " 897: 'homes',\n",
              " 898: 'usual',\n",
              " 899: 'profit',\n",
              " 900: 'gets',\n",
              " 901: 'cheap',\n",
              " 902: 'turn',\n",
              " 903: 'rent',\n",
              " 904: 'insights',\n",
              " 905: 'nurse',\n",
              " 906: 'finally',\n",
              " 907: 'record',\n",
              " 908: 'usa',\n",
              " 909: 'true',\n",
              " 910: 'survey',\n",
              " 911: 'regarding',\n",
              " 912: 'massive',\n",
              " 913: 'apart',\n",
              " 914: 'phone',\n",
              " 915: 'hygiene',\n",
              " 916: 'frontline',\n",
              " 917: 'oh',\n",
              " 918: 'donations',\n",
              " 919: 'rather',\n",
              " 920: 'myself',\n",
              " 921: 'notice',\n",
              " 922: 'costs',\n",
              " 923: 'force',\n",
              " 924: 'sentiment',\n",
              " 925: 'debt',\n",
              " 926: 'temporarily',\n",
              " 927: 'happen',\n",
              " 928: 'unemployment',\n",
              " 929: 'coughing',\n",
              " 930: 'dear',\n",
              " 931: 'among',\n",
              " 932: 'easy',\n",
              " 933: 'interesting',\n",
              " 934: 'department',\n",
              " 935: 'calling',\n",
              " 936: 'bill',\n",
              " 937: 'growing',\n",
              " 938: 'wont',\n",
              " 939: 'theyre',\n",
              " 940: 'commerce',\n",
              " 941: 'sir',\n",
              " 942: 'forget',\n",
              " 943: 'mind',\n",
              " 944: 'talking',\n",
              " 945: 'fake',\n",
              " 946: 'meals',\n",
              " 947: 'level',\n",
              " 948: 'talk',\n",
              " 949: 'spend',\n",
              " 950: 'doesnt',\n",
              " 951: 'south',\n",
              " 952: 'feed',\n",
              " 953: 'lead',\n",
              " 954: 'wake',\n",
              " 955: 'head',\n",
              " 956: 'breaking',\n",
              " 957: 'second',\n",
              " 958: 'impacted',\n",
              " 959: 'showing',\n",
              " 960: 'protective',\n",
              " 961: 'deaths',\n",
              " 962: 'town',\n",
              " 963: 'priority',\n",
              " 964: 'quickly',\n",
              " 965: 'hi',\n",
              " 966: 'london',\n",
              " 967: 'whether',\n",
              " 968: 'ahead',\n",
              " 969: 'collapse',\n",
              " 970: 'simple',\n",
              " 971: 'worst',\n",
              " 972: '11',\n",
              " 973: 'ridiculous',\n",
              " 974: 'bags',\n",
              " 975: 'disease',\n",
              " 976: 'stand',\n",
              " 977: 'details',\n",
              " 978: 'children',\n",
              " 979: 'whats',\n",
              " 980: 'washing',\n",
              " 981: 'policy',\n",
              " 982: 'value',\n",
              " 983: 'commodities',\n",
              " 984: 'opportunity',\n",
              " 985: 'quick',\n",
              " 986: 'power',\n",
              " 987: 'wish',\n",
              " 988: 'wants',\n",
              " 989: 'sent',\n",
              " 990: 'station',\n",
              " 991: 'r',\n",
              " 992: 'challenges',\n",
              " 993: 'shelf',\n",
              " 994: 'walking',\n",
              " 995: 'certain',\n",
              " 996: 'donating',\n",
              " 997: 'minister',\n",
              " 998: 'lock',\n",
              " 999: 'waste',\n",
              " 1000: 'ill',\n",
              " ...}"
            ]
          },
          "execution_count": 111,
          "metadata": {},
          "output_type": "execute_result"
        }
      ],
      "source": [
        "tokenizer.index_word"
      ]
    },
    {
      "cell_type": "code",
      "execution_count": 112,
      "metadata": {
        "id": "7XlHcvix8wwn"
      },
      "outputs": [],
      "source": [
        "train_seq = tokenizer.texts_to_sequences(train_sentences)\n",
        "train_seq_pad = pad_sequences(train_seq, maxlen=max_length, truncating='post', padding=\"post\") #padding: \"pre\"\n",
        "\n",
        "valid_seq = tokenizer.texts_to_sequences(valid_sentences)\n",
        "valid_seq_pad = pad_sequences(valid_seq, maxlen=max_length, truncating='post', padding=\"post\")\n",
        "\n",
        "test_seq = tokenizer.texts_to_sequences(test_sentences)\n",
        "test_seq_pad = pad_sequences(test_seq, maxlen=max_length, truncating='post', padding=\"post\")"
      ]
    },
    {
      "cell_type": "code",
      "execution_count": 113,
      "metadata": {
        "id": "PS4gQeqJ81-x"
      },
      "outputs": [],
      "source": [
        "train_labels = np.array(train_labels)\n",
        "valid_labels = np.array(valid_labels)\n",
        "test_labels = np.array(test_labels)"
      ]
    },
    {
      "cell_type": "code",
      "execution_count": 114,
      "metadata": {
        "colab": {
          "base_uri": "https://localhost:8080/"
        },
        "id": "m868mqwW83xM",
        "outputId": "529a3f21-d3a9-4890-d2e5-1e25cb3a8456"
      },
      "outputs": [
        {
          "data": {
            "text/plain": [
              "(28523,)"
            ]
          },
          "execution_count": 114,
          "metadata": {},
          "output_type": "execute_result"
        }
      ],
      "source": [
        "train_labels.shape"
      ]
    },
    {
      "cell_type": "markdown",
      "metadata": {
        "id": "iEzmg2ia844V"
      },
      "source": [
        "# 6.  Embedding + Neural Network"
      ]
    },
    {
      "cell_type": "code",
      "execution_count": null,
      "metadata": {
        "id": "ZY4CgWq69dRv"
      },
      "outputs": [],
      "source": [
        "import tensorflow as tf"
      ]
    },
    {
      "cell_type": "code",
      "execution_count": 117,
      "metadata": {
        "id": "amM7AwZG89GT"
      },
      "outputs": [],
      "source": [
        "checkpoint_path = \"/content/save_model/model_nn.ckpt\"\n",
        "checkpoint_dir = os.path.dirname(checkpoint_path)\n",
        "model_checkpoint_callback = tf.keras.callbacks.ModelCheckpoint(\n",
        "    filepath=checkpoint_path,\n",
        "    verbose=1,\n",
        "    save_weights_only=True,\n",
        "    monitor='val_accuracy',\n",
        "    mode='max',\n",
        "    save_best_only=True)"
      ]
    },
    {
      "cell_type": "code",
      "execution_count": 119,
      "metadata": {
        "colab": {
          "base_uri": "https://localhost:8080/"
        },
        "id": "yOJy8jfB8_Ku",
        "outputId": "6235e9f3-c749-44bd-ae7c-ed784a0ef45a"
      },
      "outputs": [
        {
          "name": "stdout",
          "output_type": "stream",
          "text": [
            "Model: \"sequential\"\n",
            "_________________________________________________________________\n",
            " Layer (type)                Output Shape              Param #   \n",
            "=================================================================\n",
            " embedding (Embedding)       (None, 40, 300)           6000000   \n",
            "                                                                 \n",
            " flatten (Flatten)           (None, 12000)             0         \n",
            "                                                                 \n",
            " dense (Dense)               (None, 10)                120010    \n",
            "                                                                 \n",
            " dense_1 (Dense)             (None, 3)                 33        \n",
            "                                                                 \n",
            "=================================================================\n",
            "Total params: 6,120,043\n",
            "Trainable params: 6,120,043\n",
            "Non-trainable params: 0\n",
            "_________________________________________________________________\n",
            "Epoch 1/20\n",
            "892/892 [==============================] - ETA: 0s - loss: 0.7728 - accuracy: 0.6367\n",
            "Epoch 00001: val_accuracy improved from -inf to 0.77628, saving model to /content/save_model/model_nn.ckpt\n",
            "892/892 [==============================] - 65s 73ms/step - loss: 0.7728 - accuracy: 0.6367 - val_loss: 0.5756 - val_accuracy: 0.7763\n",
            "Epoch 2/20\n",
            "892/892 [==============================] - ETA: 0s - loss: 0.2517 - accuracy: 0.9131\n",
            "Epoch 00002: val_accuracy did not improve from 0.77628\n",
            "892/892 [==============================] - 64s 72ms/step - loss: 0.2517 - accuracy: 0.9131 - val_loss: 0.7041 - val_accuracy: 0.7505\n",
            "Epoch 3/20\n",
            "892/892 [==============================] - ETA: 0s - loss: 0.0430 - accuracy: 0.9891\n",
            "Epoch 00003: val_accuracy did not improve from 0.77628\n",
            "892/892 [==============================] - 64s 72ms/step - loss: 0.0430 - accuracy: 0.9891 - val_loss: 0.8545 - val_accuracy: 0.7559\n",
            "Epoch 4/20\n",
            "892/892 [==============================] - ETA: 0s - loss: 0.0121 - accuracy: 0.9980\n",
            "Epoch 00004: val_accuracy did not improve from 0.77628\n",
            "892/892 [==============================] - 64s 72ms/step - loss: 0.0121 - accuracy: 0.9980 - val_loss: 0.9681 - val_accuracy: 0.7489\n",
            "Epoch 5/20\n",
            "892/892 [==============================] - ETA: 0s - loss: 0.0057 - accuracy: 0.9991\n",
            "Epoch 00005: val_accuracy did not improve from 0.77628\n",
            "892/892 [==============================] - 63s 71ms/step - loss: 0.0057 - accuracy: 0.9991 - val_loss: 1.0353 - val_accuracy: 0.7570\n",
            "Epoch 6/20\n",
            "892/892 [==============================] - ETA: 0s - loss: 0.0040 - accuracy: 0.9994\n",
            "Epoch 00006: val_accuracy did not improve from 0.77628\n",
            "892/892 [==============================] - 63s 71ms/step - loss: 0.0040 - accuracy: 0.9994 - val_loss: 1.1325 - val_accuracy: 0.7492\n",
            "Epoch 7/20\n",
            "892/892 [==============================] - ETA: 0s - loss: 0.0064 - accuracy: 0.9986\n",
            "Epoch 00007: val_accuracy did not improve from 0.77628\n",
            "892/892 [==============================] - 63s 71ms/step - loss: 0.0064 - accuracy: 0.9986 - val_loss: 1.3443 - val_accuracy: 0.7405\n",
            "Epoch 8/20\n",
            "892/892 [==============================] - ETA: 0s - loss: 0.0328 - accuracy: 0.9895\n",
            "Epoch 00008: val_accuracy did not improve from 0.77628\n",
            "892/892 [==============================] - 63s 71ms/step - loss: 0.0328 - accuracy: 0.9895 - val_loss: 1.6293 - val_accuracy: 0.7213\n",
            "Epoch 9/20\n",
            "892/892 [==============================] - ETA: 0s - loss: 0.0147 - accuracy: 0.9952\n",
            "Epoch 00009: val_accuracy did not improve from 0.77628\n",
            "892/892 [==============================] - 63s 71ms/step - loss: 0.0147 - accuracy: 0.9952 - val_loss: 1.6440 - val_accuracy: 0.7273\n",
            "Epoch 10/20\n",
            "892/892 [==============================] - ETA: 0s - loss: 0.0073 - accuracy: 0.9983\n",
            "Epoch 00010: val_accuracy did not improve from 0.77628\n",
            "892/892 [==============================] - 63s 70ms/step - loss: 0.0073 - accuracy: 0.9983 - val_loss: 1.6642 - val_accuracy: 0.7217\n",
            "Epoch 11/20\n",
            "892/892 [==============================] - ETA: 0s - loss: 0.0021 - accuracy: 0.9996\n",
            "Epoch 00011: val_accuracy did not improve from 0.77628\n",
            "892/892 [==============================] - 63s 71ms/step - loss: 0.0021 - accuracy: 0.9996 - val_loss: 1.7463 - val_accuracy: 0.7252\n",
            "Epoch 12/20\n",
            "892/892 [==============================] - ETA: 0s - loss: 0.0028 - accuracy: 0.9994\n",
            "Epoch 00012: val_accuracy did not improve from 0.77628\n",
            "892/892 [==============================] - 63s 71ms/step - loss: 0.0028 - accuracy: 0.9994 - val_loss: 1.7764 - val_accuracy: 0.7227\n",
            "Epoch 13/20\n",
            "892/892 [==============================] - ETA: 0s - loss: 0.0021 - accuracy: 0.9995\n",
            "Epoch 00013: val_accuracy did not improve from 0.77628\n",
            "892/892 [==============================] - 63s 70ms/step - loss: 0.0021 - accuracy: 0.9995 - val_loss: 1.8461 - val_accuracy: 0.7161\n",
            "Epoch 14/20\n",
            "892/892 [==============================] - ETA: 0s - loss: 0.0145 - accuracy: 0.9958\n",
            "Epoch 00014: val_accuracy did not improve from 0.77628\n",
            "892/892 [==============================] - 63s 70ms/step - loss: 0.0145 - accuracy: 0.9958 - val_loss: 2.1550 - val_accuracy: 0.7032\n",
            "Epoch 15/20\n",
            "892/892 [==============================] - ETA: 0s - loss: 0.0178 - accuracy: 0.9943\n",
            "Epoch 00015: val_accuracy did not improve from 0.77628\n",
            "892/892 [==============================] - 63s 71ms/step - loss: 0.0178 - accuracy: 0.9943 - val_loss: 2.1126 - val_accuracy: 0.7073\n",
            "Epoch 16/20\n",
            "892/892 [==============================] - ETA: 0s - loss: 0.0036 - accuracy: 0.9989\n",
            "Epoch 00016: val_accuracy did not improve from 0.77628\n",
            "892/892 [==============================] - 63s 70ms/step - loss: 0.0036 - accuracy: 0.9989 - val_loss: 2.1766 - val_accuracy: 0.7150\n",
            "Epoch 17/20\n",
            "892/892 [==============================] - ETA: 0s - loss: 0.0021 - accuracy: 0.9996\n",
            "Epoch 00017: val_accuracy did not improve from 0.77628\n",
            "892/892 [==============================] - 63s 70ms/step - loss: 0.0021 - accuracy: 0.9996 - val_loss: 2.0866 - val_accuracy: 0.7182\n",
            "Epoch 18/20\n",
            "892/892 [==============================] - ETA: 0s - loss: 6.6328e-04 - accuracy: 0.9997\n",
            "Epoch 00018: val_accuracy did not improve from 0.77628\n",
            "892/892 [==============================] - 63s 71ms/step - loss: 6.6328e-04 - accuracy: 0.9997 - val_loss: 2.1263 - val_accuracy: 0.7184\n",
            "Epoch 19/20\n",
            "892/892 [==============================] - ETA: 0s - loss: 4.9842e-04 - accuracy: 0.9998\n",
            "Epoch 00019: val_accuracy did not improve from 0.77628\n",
            "892/892 [==============================] - 63s 71ms/step - loss: 4.9842e-04 - accuracy: 0.9998 - val_loss: 2.1821 - val_accuracy: 0.7181\n",
            "Epoch 20/20\n",
            "892/892 [==============================] - ETA: 0s - loss: 0.0016 - accuracy: 0.9998\n",
            "Epoch 00020: val_accuracy did not improve from 0.77628\n",
            "892/892 [==============================] - 63s 70ms/step - loss: 0.0016 - accuracy: 0.9998 - val_loss: 2.0855 - val_accuracy: 0.7106\n"
          ]
        }
      ],
      "source": [
        "model_nn = tf.keras.Sequential()\n",
        "model_nn.add(tf.keras.layers.Embedding(vocab_size, embedding_dim, input_length=max_length))\n",
        "model_nn.add(tf.keras.layers.Flatten())\n",
        "model_nn.add(tf.keras.layers.Dense(10, activation='relu'))\n",
        "model_nn.add(tf.keras.layers.Dense(3, activation='softmax'))\n",
        "model_nn.compile(loss='sparse_categorical_crossentropy', optimizer='adam', metrics=['accuracy'])\n",
        "model_nn.summary()\n",
        "history = model_nn.fit(train_seq_pad, train_labels, epochs=20, validation_data=(valid_seq_pad, valid_labels), callbacks=[model_checkpoint_callback])"
      ]
    },
    {
      "cell_type": "code",
      "execution_count": 131,
      "metadata": {
        "colab": {
          "base_uri": "https://localhost:8080/"
        },
        "id": "1a-VWbGF9brV",
        "outputId": "6b56fae4-a63e-438f-c052-9756ac31f0fa"
      },
      "outputs": [
        {
          "name": "stdout",
          "output_type": "stream",
          "text": [
            "Accuracy: 0.7642083002907745\n",
            "              precision    recall  f1-score   support\n",
            "\n",
            "           0       0.80      0.76      0.78      1632\n",
            "           1       0.68      0.63      0.65       608\n",
            "           2       0.76      0.82      0.79      1543\n",
            "\n",
            "    accuracy                           0.76      3783\n",
            "   macro avg       0.75      0.74      0.74      3783\n",
            "weighted avg       0.76      0.76      0.76      3783\n",
            "\n"
          ]
        }
      ],
      "source": [
        "model_nn.load_weights(checkpoint_path)\n",
        "test_predict = model_nn.predict(test_seq_pad)\n",
        "test_predict = np.argmax(test_predict, axis=1)\n",
        "confusion_matrix(test_labels, test_predict)\n",
        "print(\"Accuracy:\", accuracy_score(test_labels, test_predict))\n",
        "print(classification_report(test_labels, test_predict))"
      ]
    },
    {
      "cell_type": "code",
      "execution_count": 130,
      "metadata": {
        "colab": {
          "base_uri": "https://localhost:8080/"
        },
        "id": "AlId6xGKPCF_",
        "outputId": "d091d9e1-a91b-4c35-d478-8dc9ffdd2291"
      },
      "outputs": [
        {
          "data": {
            "text/plain": [
              "array([0, 2, 2, ..., 0, 0, 2])"
            ]
          },
          "execution_count": 130,
          "metadata": {},
          "output_type": "execute_result"
        }
      ],
      "source": [
        "test_predict"
      ]
    },
    {
      "cell_type": "code",
      "execution_count": 125,
      "metadata": {
        "colab": {
          "base_uri": "https://localhost:8080/",
          "height": 297
        },
        "id": "wArntO-n90my",
        "outputId": "20513c2d-1a34-47c4-9551-2649981adede"
      },
      "outputs": [
        {
          "data": {
            "image/png": "[encoded data removed]",
            "text/plain": [
              "<Figure size 432x288 with 1 Axes>"
            ]
          },
          "metadata": {},
          "output_type": "display_data"
        }
      ],
      "source": [
        "import keras\n",
        "from matplotlib import pyplot as plt\n",
        "plt.plot(history.history['accuracy'])\n",
        "plt.plot(history.history['val_accuracy'])\n",
        "plt.title('model accuracy')\n",
        "plt.ylabel('accuracy')\n",
        "plt.xlabel('epoch')\n",
        "plt.legend(['train', 'val'], loc='upper left')\n",
        "plt.show()"
      ]
    },
    {
      "cell_type": "code",
      "execution_count": 138,
      "metadata": {
        "colab": {
          "base_uri": "https://localhost:8080/"
        },
        "id": "Zqel-oBUOwva",
        "outputId": "f5f62008-b02b-4dda-82de-ee1eb0f2b934"
      },
      "outputs": [
        {
          "data": {
            "text/plain": [
              "array([[0.36299488, 0.18340936, 0.4535958 ]], dtype=float32)"
            ]
          },
          "execution_count": 138,
          "metadata": {},
          "output_type": "execute_result"
        }
      ],
      "source": [
        "test_sentence = \"Many developed countries are showing ever stronger resolve to vaccinate their public against #COVID19\"\n",
        "test = tokenizer.texts_to_sequences([preprocess_text(test_sentence)])\n",
        "padded_test = pad_sequences(test, maxlen=max_length, truncating=\"post\", padding=\"post\")\n",
        "model_nn.predict(padded_test)"
      ]
    },
    {
      "cell_type": "code",
      "execution_count": null,
      "metadata": {},
      "outputs": [],
      "source": []
    }
  ],
  "metadata": {
    "colab": {
      "collapsed_sections": [],
      "name": "coronavirus_twitter_sentiment_analysis.ipynb",
      "provenance": [],
      "toc_visible": true
    },
    "kernelspec": {
      "display_name": "Python 3",
      "name": "python3"
    },
    "language_info": {
      "name": "python"
    }
  },
  "nbformat": 4,
  "nbformat_minor": 0
}
